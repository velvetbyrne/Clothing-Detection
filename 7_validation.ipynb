{
 "cells": [
  {
   "cell_type": "code",
   "execution_count": 6,
   "metadata": {},
   "outputs": [
    {
     "name": "stdout",
     "output_type": "stream",
     "text": [
      "Collecting supervision\n",
      "  Using cached supervision-0.16.0-py3-none-any.whl.metadata (14 kB)\n",
      "Requirement already satisfied: matplotlib<4.0.0,>=3.7.1 in c:\\users\\ip-03\\appdata\\local\\programs\\python\\python311\\lib\\site-packages (from supervision) (3.7.1)\n",
      "Requirement already satisfied: numpy<2.0.0,>=1.20.0 in c:\\users\\ip-03\\appdata\\local\\programs\\python\\python311\\lib\\site-packages (from supervision) (1.23.5)\n",
      "Collecting opencv-python-headless<5.0.0.0,>=4.8.0.74 (from supervision)\n",
      "  Using cached opencv_python_headless-4.8.1.78-cp37-abi3-win_amd64.whl.metadata (20 kB)\n",
      "Requirement already satisfied: pillow<11.0,>=9.4 in c:\\users\\ip-03\\appdata\\local\\programs\\python\\python311\\lib\\site-packages (from supervision) (9.5.0)\n",
      "Requirement already satisfied: pyyaml<7.0,>=6.0 in c:\\users\\ip-03\\appdata\\local\\programs\\python\\python311\\lib\\site-packages (from supervision) (6.0)\n",
      "Requirement already satisfied: scipy<2.0.0,>=1.9.0 in c:\\users\\ip-03\\appdata\\local\\programs\\python\\python311\\lib\\site-packages (from supervision) (1.10.1)\n",
      "Requirement already satisfied: contourpy>=1.0.1 in c:\\users\\ip-03\\appdata\\local\\programs\\python\\python311\\lib\\site-packages (from matplotlib<4.0.0,>=3.7.1->supervision) (1.0.7)\n",
      "Requirement already satisfied: cycler>=0.10 in c:\\users\\ip-03\\appdata\\local\\programs\\python\\python311\\lib\\site-packages (from matplotlib<4.0.0,>=3.7.1->supervision) (0.11.0)\n",
      "Requirement already satisfied: fonttools>=4.22.0 in c:\\users\\ip-03\\appdata\\local\\programs\\python\\python311\\lib\\site-packages (from matplotlib<4.0.0,>=3.7.1->supervision) (4.39.3)\n",
      "Requirement already satisfied: kiwisolver>=1.0.1 in c:\\users\\ip-03\\appdata\\local\\programs\\python\\python311\\lib\\site-packages (from matplotlib<4.0.0,>=3.7.1->supervision) (1.4.4)\n",
      "Requirement already satisfied: packaging>=20.0 in c:\\users\\ip-03\\appdata\\local\\programs\\python\\python311\\lib\\site-packages (from matplotlib<4.0.0,>=3.7.1->supervision) (23.0)\n",
      "Requirement already satisfied: pyparsing>=2.3.1 in c:\\users\\ip-03\\appdata\\local\\programs\\python\\python311\\lib\\site-packages (from matplotlib<4.0.0,>=3.7.1->supervision) (3.0.9)\n",
      "Requirement already satisfied: python-dateutil>=2.7 in c:\\users\\ip-03\\appdata\\local\\programs\\python\\python311\\lib\\site-packages (from matplotlib<4.0.0,>=3.7.1->supervision) (2.8.2)\n",
      "Requirement already satisfied: six>=1.5 in c:\\users\\ip-03\\appdata\\local\\programs\\python\\python311\\lib\\site-packages (from python-dateutil>=2.7->matplotlib<4.0.0,>=3.7.1->supervision) (1.16.0)\n",
      "Using cached supervision-0.16.0-py3-none-any.whl (72 kB)\n",
      "Using cached opencv_python_headless-4.8.1.78-cp37-abi3-win_amd64.whl (38.0 MB)\n",
      "Installing collected packages: opencv-python-headless, supervision\n",
      "Successfully installed opencv-python-headless-4.8.1.78 supervision-0.16.0\n",
      "Note: you may need to restart the kernel to use updated packages.\n"
     ]
    }
   ],
   "source": [
    "pip install supervision --user"
   ]
  },
  {
   "cell_type": "code",
   "execution_count": 16,
   "metadata": {},
   "outputs": [],
   "source": [
    "import cv2\n",
    "import torch\n",
    "import yaml\n",
    "from pathlib import Path\n",
    "import ultralytics\n",
    "from ultralytics import YOLO\n",
    "import supervision as sv"
   ]
  },
  {
   "cell_type": "code",
   "execution_count": 15,
   "metadata": {},
   "outputs": [],
   "source": [
    "# Load YOLOv8 model\n",
    "model_path = \"C:/Users/IP-03/Documents/Benji/runs/detect/2023-11-24-50epchs-nopre/weights/best.pt\" #change the model pt here\n",
    "model = YOLO(model_path)\n",
    "\n",
    "# Load YAML\n",
    "args_path = \"C:/Users/IP-03/Documents/Benji/runs/detect/2023-11-24-50epchs-nopre/args.yaml\" #change the args here\n",
    "with open(args_path, 'r') as f:\n",
    "    config = yaml.safe_load(f)"
   ]
  },
  {
   "cell_type": "code",
   "execution_count": 3,
   "metadata": {},
   "outputs": [
    {
     "name": "stderr",
     "output_type": "stream",
     "text": [
      "Ultralytics YOLOv8.0.210  Python-3.11.3 torch-2.0.1+cu118 CUDA:0 (NVIDIA GeForce GTX 1080 Ti, 11264MiB)\n",
      "Model summary (fused): 168 layers, 3008378 parameters, 0 gradients, 8.1 GFLOPs\n",
      "\u001b[34m\u001b[1mval: \u001b[0mScanning D:\\Benji\\dataset\\labels\\val.cache... 32153 images, 0 backgrounds, 0 corrupt: 100%|██████████| 32153/32153\u001b[0m\n",
      "                 Class     Images  Instances      Box(P          R      mAP50  mAP50-95): 100%|██████████| 2010/2010 [0\n",
      "                   all      32153      32153       0.48      0.567      0.512      0.446\n",
      "      short sleeve top      32153       9495      0.551      0.953      0.817       0.75\n",
      "       long sleeve top      32153       4262      0.598      0.281      0.479      0.404\n",
      "  short sleeve outwear      32153        105      0.436      0.305      0.273      0.249\n",
      "   long sleeve outwear      32153       1663      0.368      0.906       0.58      0.517\n",
      "                  vest      32153       1736      0.644      0.795      0.742      0.627\n",
      "                 sling      32153        270      0.673      0.351      0.468      0.362\n",
      "                shorts      32153       1232      0.261      0.929      0.503      0.443\n",
      "              trousers      32153       3134       0.31      0.893       0.49      0.417\n",
      "                 skirt      32153       2127      0.228      0.616      0.227      0.202\n",
      "    short sleeve dress      32153       3025      0.738     0.0158      0.546      0.485\n",
      "     long sleeve dress      32153       1401      0.414    0.00286      0.375      0.321\n",
      "            vest dress      32153       2981      0.628      0.784      0.784      0.703\n",
      "           sling dress      32153        722       0.39       0.54      0.366      0.315\n",
      "Speed: 0.3ms preprocess, 2.1ms inference, 0.0ms loss, 1.1ms postprocess per image\n",
      "Results saved to \u001b[1mruns\\detect\\val\u001b[0m\n"
     ]
    },
    {
     "data": {
      "text/plain": [
       "array([    0.44573,     0.74966,     0.40358,     0.24876,      0.5172,     0.62672,     0.36151,     0.44285,     0.41739,     0.20211,     0.48509,     0.32071,     0.70349,      0.3154])"
      ]
     },
     "execution_count": 3,
     "metadata": {},
     "output_type": "execute_result"
    }
   ],
   "source": [
    "metrics = model.val()  # no arguments needed, dataset and settings remembered\n",
    "metrics.box.map    # map50-95\n",
    "metrics.box.map50  # map50\n",
    "metrics.box.map75  # map75\n",
    "metrics.box.maps"
   ]
  }
 ],
 "metadata": {
  "kernelspec": {
   "display_name": "3.11.3",
   "language": "python",
   "name": "3.11.3"
  },
  "language_info": {
   "codemirror_mode": {
    "name": "ipython",
    "version": 3
   },
   "file_extension": ".py",
   "mimetype": "text/x-python",
   "name": "python",
   "nbconvert_exporter": "python",
   "pygments_lexer": "ipython3",
   "version": "3.11.3"
  }
 },
 "nbformat": 4,
 "nbformat_minor": 4
}
