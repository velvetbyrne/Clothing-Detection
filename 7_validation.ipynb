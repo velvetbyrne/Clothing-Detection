{
 "cells": [
  {
   "cell_type": "code",
   "execution_count": 6,
   "metadata": {},
   "outputs": [
    {
     "name": "stdout",
     "output_type": "stream",
     "text": [
      "Collecting supervision\n",
      "  Using cached supervision-0.16.0-py3-none-any.whl.metadata (14 kB)\n",
      "Requirement already satisfied: matplotlib<4.0.0,>=3.7.1 in c:\\users\\ip-03\\appdata\\local\\programs\\python\\python311\\lib\\site-packages (from supervision) (3.7.1)\n",
      "Requirement already satisfied: numpy<2.0.0,>=1.20.0 in c:\\users\\ip-03\\appdata\\local\\programs\\python\\python311\\lib\\site-packages (from supervision) (1.23.5)\n",
      "Collecting opencv-python-headless<5.0.0.0,>=4.8.0.74 (from supervision)\n",
      "  Using cached opencv_python_headless-4.8.1.78-cp37-abi3-win_amd64.whl.metadata (20 kB)\n",
      "Requirement already satisfied: pillow<11.0,>=9.4 in c:\\users\\ip-03\\appdata\\local\\programs\\python\\python311\\lib\\site-packages (from supervision) (9.5.0)\n",
      "Requirement already satisfied: pyyaml<7.0,>=6.0 in c:\\users\\ip-03\\appdata\\local\\programs\\python\\python311\\lib\\site-packages (from supervision) (6.0)\n",
      "Requirement already satisfied: scipy<2.0.0,>=1.9.0 in c:\\users\\ip-03\\appdata\\local\\programs\\python\\python311\\lib\\site-packages (from supervision) (1.10.1)\n",
      "Requirement already satisfied: contourpy>=1.0.1 in c:\\users\\ip-03\\appdata\\local\\programs\\python\\python311\\lib\\site-packages (from matplotlib<4.0.0,>=3.7.1->supervision) (1.0.7)\n",
      "Requirement already satisfied: cycler>=0.10 in c:\\users\\ip-03\\appdata\\local\\programs\\python\\python311\\lib\\site-packages (from matplotlib<4.0.0,>=3.7.1->supervision) (0.11.0)\n",
      "Requirement already satisfied: fonttools>=4.22.0 in c:\\users\\ip-03\\appdata\\local\\programs\\python\\python311\\lib\\site-packages (from matplotlib<4.0.0,>=3.7.1->supervision) (4.39.3)\n",
      "Requirement already satisfied: kiwisolver>=1.0.1 in c:\\users\\ip-03\\appdata\\local\\programs\\python\\python311\\lib\\site-packages (from matplotlib<4.0.0,>=3.7.1->supervision) (1.4.4)\n",
      "Requirement already satisfied: packaging>=20.0 in c:\\users\\ip-03\\appdata\\local\\programs\\python\\python311\\lib\\site-packages (from matplotlib<4.0.0,>=3.7.1->supervision) (23.0)\n",
      "Requirement already satisfied: pyparsing>=2.3.1 in c:\\users\\ip-03\\appdata\\local\\programs\\python\\python311\\lib\\site-packages (from matplotlib<4.0.0,>=3.7.1->supervision) (3.0.9)\n",
      "Requirement already satisfied: python-dateutil>=2.7 in c:\\users\\ip-03\\appdata\\local\\programs\\python\\python311\\lib\\site-packages (from matplotlib<4.0.0,>=3.7.1->supervision) (2.8.2)\n",
      "Requirement already satisfied: six>=1.5 in c:\\users\\ip-03\\appdata\\local\\programs\\python\\python311\\lib\\site-packages (from python-dateutil>=2.7->matplotlib<4.0.0,>=3.7.1->supervision) (1.16.0)\n",
      "Using cached supervision-0.16.0-py3-none-any.whl (72 kB)\n",
      "Using cached opencv_python_headless-4.8.1.78-cp37-abi3-win_amd64.whl (38.0 MB)\n",
      "Installing collected packages: opencv-python-headless, supervision\n",
      "Successfully installed opencv-python-headless-4.8.1.78 supervision-0.16.0\n",
      "Note: you may need to restart the kernel to use updated packages.\n"
     ]
    }
   ],
   "source": [
    "pip install supervision --user"
   ]
  },
  {
   "cell_type": "code",
   "execution_count": 1,
   "metadata": {},
   "outputs": [],
   "source": [
    "import cv2\n",
    "import torch\n",
    "import yaml\n",
    "from pathlib import Path\n",
    "import ultralytics\n",
    "from ultralytics import YOLO\n",
    "import supervision as sv"
   ]
  },
  {
   "cell_type": "code",
   "execution_count": 2,
   "metadata": {},
   "outputs": [],
   "source": [
    "# Load YOLOv8 model\n",
    "model_path = \"C:/Users/IP-03/Documents/Benji/runs/detect/2023-11-24-50epchs-nopre/weights/best.pt\" #change the model pt here\n",
    "model = YOLO(model_path)\n",
    "\n",
    "# Load YAML\n",
    "args_path = \"C:/Users/IP-03/Documents/Benji/runs/detect/2023-11-24-50epchs-nopre/args.yaml\" #change the args here\n",
    "with open(args_path, 'r') as f:\n",
    "    config = yaml.safe_load(f)"
   ]
  },
  {
   "cell_type": "code",
   "execution_count": 3,
   "metadata": {
    "scrolled": false
   },
   "outputs": [
    {
     "name": "stderr",
     "output_type": "stream",
     "text": [
      "Ultralytics YOLOv8.0.210  Python-3.11.3 torch-2.0.1+cu118 CUDA:0 (NVIDIA GeForce GTX 1080 Ti, 11264MiB)\n",
      "YOLOv8n summary (fused): 168 layers, 3008378 parameters, 0 gradients, 8.1 GFLOPs\n",
      "\u001b[34m\u001b[1mval: \u001b[0mScanning D:\\Benji\\dataset\\labels\\val.cache... 32153 images, 0 backgrounds, 0 corrupt: 100%|██████████| 32153/32153\u001b[0m\n",
      "                 Class     Images  Instances      Box(P          R      mAP50  mAP50-95): 100%|██████████| 2010/2010 [0\n",
      "                   all      32153      32153      0.489      0.587      0.518      0.454\n",
      "      short sleeve top      32153       9495      0.549      0.959      0.815      0.751\n",
      "       long sleeve top      32153       4262      0.604      0.284      0.473      0.402\n",
      "  short sleeve outwear      32153        105      0.386      0.286      0.278      0.249\n",
      "   long sleeve outwear      32153       1663      0.374      0.924      0.568      0.515\n",
      "                  vest      32153       1736      0.675      0.793      0.765       0.65\n",
      "                 sling      32153        270      0.645      0.422      0.527      0.417\n",
      "                shorts      32153       1232      0.258       0.92      0.539      0.478\n",
      "              trousers      32153       3134      0.313      0.911      0.504      0.433\n",
      "                 skirt      32153       2127      0.239      0.653      0.246       0.22\n",
      "    short sleeve dress      32153       3025      0.833      0.051      0.525      0.464\n",
      "     long sleeve dress      32153       1401      0.512      0.025      0.316      0.272\n",
      "            vest dress      32153       2981      0.627      0.802      0.783      0.706\n",
      "           sling dress      32153        722      0.345      0.597      0.393      0.343\n",
      "Speed: 0.2ms preprocess, 2.0ms inference, 0.0ms loss, 0.7ms postprocess per image\n",
      "Results saved to \u001b[1mruns\\detect\\val2\u001b[0m\n"
     ]
    },
    {
     "data": {
      "text/plain": [
       "array([    0.45382,     0.75063,     0.40216,     0.24875,     0.51538,     0.64966,     0.41716,     0.47791,     0.43259,      0.2201,     0.46435,     0.27193,     0.70598,     0.34312])"
      ]
     },
     "execution_count": 3,
     "metadata": {},
     "output_type": "execute_result"
    }
   ],
   "source": [
    "metrics = model.val()  # no arguments needed, dataset and settings remembered\n",
    "metrics.box.map    # map50-95\n",
    "metrics.box.map50  # map50\n",
    "metrics.box.map75  # map75\n",
    "metrics.box.maps"
   ]
  },
  {
   "cell_type": "code",
   "execution_count": 30,
   "metadata": {},
   "outputs": [
    {
     "name": "stdout",
     "output_type": "stream",
     "text": [
      "[    0.54901      0.6044     0.38638     0.37391     0.67474     0.64452     0.25837     0.31308     0.23883     0.83278     0.51175     0.62726       0.345]\n",
      "[    0.95914     0.28427     0.28571     0.92423      0.7932     0.42222     0.92045     0.91066     0.65303    0.051035    0.024982     0.80208     0.59695]\n"
     ]
    }
   ],
   "source": [
    "print(metrics.box.p)\n",
    "print(metrics.box.r)"
   ]
  },
  {
   "cell_type": "code",
   "execution_count": 32,
   "metadata": {},
   "outputs": [
    {
     "name": "stdout",
     "output_type": "stream",
     "text": [
      "Micro Precision: 0.5353651682323187\n",
      "Micro Recall: 0.4463756767458433\n",
      "Micro F1 Score: 0.486837214725785\n",
      "Macro Precision: 0.489233582622308\n",
      "Macro Recall: 0.5867672297355547\n",
      "Macro F1 Score: 0.5335799576950842\n"
     ]
    }
   ],
   "source": [
    "#Calculate micro metrics\n",
    "total_tp = np.sum(metrics.box.p * metrics.box.r)\n",
    "total_fp = np.sum(metrics.box.p) - total_tp\n",
    "total_fn = np.sum(metrics.box.r) - total_tp\n",
    "\n",
    "micro_precision = total_tp / (total_tp + total_fp)\n",
    "micro_recall = total_tp / (total_tp + total_fn)\n",
    "micro_f1 = 2 * (micro_precision * micro_recall) / (micro_precision + micro_recall)\n",
    "\n",
    "#Calculate macro metrics\n",
    "macro_precision = np.mean(metrics.box.p)\n",
    "macro_recall = np.mean(metrics.box.r)\n",
    "macro_f1 = 2 * (macro_precision * macro_recall) / (macro_precision + macro_recall)\n",
    "\n",
    "# Print the results\n",
    "print(\"Micro Precision:\", micro_precision)\n",
    "print(\"Micro Recall:\", micro_recall)\n",
    "print(\"Micro F1 Score:\", micro_f1)\n",
    "\n",
    "print(\"Macro Precision:\", macro_precision)\n",
    "print(\"Macro Recall:\", macro_recall)\n",
    "print(\"Macro F1 Score:\", macro_f1)"
   ]
  }
 ],
 "metadata": {
  "kernelspec": {
   "display_name": "3.11.3",
   "language": "python",
   "name": "3.11.3"
  },
  "language_info": {
   "codemirror_mode": {
    "name": "ipython",
    "version": 3
   },
   "file_extension": ".py",
   "mimetype": "text/x-python",
   "name": "python",
   "nbconvert_exporter": "python",
   "pygments_lexer": "ipython3",
   "version": "3.11.3"
  }
 },
 "nbformat": 4,
 "nbformat_minor": 4
}
