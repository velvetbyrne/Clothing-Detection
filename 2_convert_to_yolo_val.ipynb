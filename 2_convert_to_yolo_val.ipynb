{
 "cells": [
  {
   "cell_type": "code",
   "execution_count": 1,
   "id": "7c6d8e67",
   "metadata": {},
   "outputs": [],
   "source": [
    "from PIL import Image\n",
    "import os\n",
    "import json\n",
    "from tqdm import tqdm"
   ]
  },
  {
   "cell_type": "code",
   "execution_count": 2,
   "id": "d21432ca",
   "metadata": {},
   "outputs": [],
   "source": [
    "test_anno = \"F:/UNI/Proposal Skripsi/deepfashion2_dataset/validation/annos\"\n",
    "test_img = \"F:/UNI/Proposal Skripsi/deepfashion2_dataset/validation/image\"\n",
    "test_yolo_anno = \"F:/Skripsi/deepfashion2_dataset_filter/val/yolo_anno\""
   ]
  },
  {
   "cell_type": "code",
   "execution_count": 4,
   "id": "beb983e9",
   "metadata": {},
   "outputs": [
    {
     "name": "stderr",
     "output_type": "stream",
     "text": [
      "Processing F:/UNI/Proposal Skripsi/deepfashion2_dataset/validation/annos: 100%|██| 32153/32153 [09:31<00:00, 56.27it/s]"
     ]
    },
    {
     "name": "stdout",
     "output_type": "stream",
     "text": [
      "1: short sleeve top\n",
      "2: long sleeve top\n",
      "3: short sleeve outwear\n",
      "4: long sleeve outwear\n",
      "5: vest\n",
      "6: sling\n",
      "7: shorts\n",
      "8: trousers\n",
      "9: skirt\n",
      "10: short sleeve dress\n",
      "11: long sleeve dress\n",
      "12: vest dress\n",
      "13: sling dress\n"
     ]
    },
    {
     "name": "stderr",
     "output_type": "stream",
     "text": [
      "\n"
     ]
    }
   ],
   "source": [
    "def convert_to_yolo_format(annotation, image_width, image_height):\n",
    "    bounding_box = annotation['bounding_box']\n",
    "    category_id = annotation['category_id']\n",
    "    category_name = annotation['category_name']\n",
    "    \n",
    "    x_min, y_min, x_max, y_max = bounding_box\n",
    "    \n",
    "    x_center = ((x_max + x_min) / 2) / image_width\n",
    "    y_center = ((y_max + y_min) / 2) / image_height\n",
    "    width = (x_max - x_min) / image_width\n",
    "    height = (y_max - y_min) / image_height\n",
    "    \n",
    "    return f\"{category_id} {x_center} {y_center} {width} {height}\"\n",
    "\n",
    "def process_directory(src_anno_dir, dest_dir, img_dir):\n",
    "    if not os.path.exists(dest_dir):\n",
    "        os.makedirs(dest_dir)\n",
    "    \n",
    "    # Dictionary to store unique category_id and category_name pairs\n",
    "    category_dict = {}\n",
    "    \n",
    "    for filename in tqdm(os.listdir(src_anno_dir), desc=f\"Processing {src_anno_dir}\"):\n",
    "        if filename.endswith('.json'):\n",
    "            with open(os.path.join(src_anno_dir, filename), 'r') as f:\n",
    "                data = json.load(f)\n",
    "            \n",
    "            for key, value in data.items():\n",
    "                if 'item' in key:\n",
    "                    # Update the dictionary with unique category_id and category_name pairs\n",
    "                    category_dict[value['category_id']] = value['category_name']\n",
    "                    \n",
    "                    img_filename = os.path.splitext(filename)[0] + '.jpg'\n",
    "                    img_path = os.path.join(img_dir, img_filename)\n",
    "                \n",
    "                    img = Image.open(img_path)\n",
    "                    image_width, image_height = img.size\n",
    "                    img.close()\n",
    "                \n",
    "                    yolo_line = convert_to_yolo_format(value, image_width, image_height)\n",
    "                    yolo_lines = [yolo_line]\n",
    "                \n",
    "                    txt_filename = os.path.splitext(filename)[0] + '.txt'\n",
    "                    with open(os.path.join(dest_dir, txt_filename), 'w') as f:\n",
    "                        f.write('\\n'.join(yolo_lines))\n",
    "    \n",
    "    # Display the category_id and category_name pairs in the desired format\n",
    "    for category_id, category_name in sorted(category_dict.items()):\n",
    "        print(f\"{category_id}: {category_name}\")\n",
    "\n",
    "#Execution\n",
    "process_directory(test_anno, test_yolo_anno, test_img)"
   ]
  }
 ],
 "metadata": {
  "kernelspec": {
   "display_name": "Python 3 (ipykernel)",
   "language": "python",
   "name": "python3"
  },
  "language_info": {
   "codemirror_mode": {
    "name": "ipython",
    "version": 3
   },
   "file_extension": ".py",
   "mimetype": "text/x-python",
   "name": "python",
   "nbconvert_exporter": "python",
   "pygments_lexer": "ipython3",
   "version": "3.11.5"
  }
 },
 "nbformat": 4,
 "nbformat_minor": 5
}
