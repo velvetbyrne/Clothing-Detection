{
 "cells": [
  {
   "cell_type": "code",
   "execution_count": 1,
   "id": "d29d46a1",
   "metadata": {},
   "outputs": [],
   "source": [
    "import os\n",
    "import shutil\n",
    "import random\n",
    "from tqdm.notebook import tqdm\n",
    "from ultralytics import YOLO\n",
    "from matplotlib import image as mpimg\n",
    "import matplotlib.pyplot as plt"
   ]
  },
  {
   "cell_type": "code",
   "execution_count": 2,
   "id": "b3e6cafa",
   "metadata": {},
   "outputs": [],
   "source": [
    "# Directory Initialization\n",
    "\n",
    "#Training\n",
    "training_image = \"F:/UNI/Proposal Skripsi/deepfashion2_dataset/train/image\"\n",
    "training_annos = \"F:/UNI/Proposal Skripsi/deepfashion2_dataset/train/annos\"\n",
    "\n",
    "#Validation\n",
    "val_image = \"F:/UNI/Proposal Skripsi/deepfashion2_dataset/validation/image\"\n",
    "val_annos = \"F:/UNI/Proposal Skripsi/deepfashion2_dataset/validation/annos\"\n",
    "\n",
    "#Test\n",
    "training_image = \"F:/UNI/Proposal Skripsi/deepfashion2_dataset/test/image\""
   ]
  },
  {
   "cell_type": "code",
   "execution_count": 3,
   "id": "c07e1b4a",
   "metadata": {},
   "outputs": [],
   "source": [
    "#model = YOLO(\"yolov8n.yaml\")  # build a new model from scratch\n",
    "model=YOLO()\n",
    "#model = YOLO(\"deepfashion2_yolov8s-seg.pt\")  # load a pretrained model (recommended for training)\n",
    "# model.train(data=\"output.yaml\", epochs=1, task=\"detect\")"
   ]
  },
  {
   "cell_type": "code",
   "execution_count": null,
   "id": "723cda26",
   "metadata": {},
   "outputs": [],
   "source": [
    "img_id = \"006349\"\n",
    "image = mpimg.imread(f\"F:/UNI/Proposal Skripsi/deepfashion2_dataset/train/image/{img_id}.jpg\")\n",
    "plt.imshow(image)\n",
    "plt.show()"
   ]
  },
  {
   "cell_type": "code",
   "execution_count": null,
   "id": "209dfc35",
   "metadata": {},
   "outputs": [],
   "source": []
  }
 ],
 "metadata": {
  "kernelspec": {
   "display_name": "Python 3 (ipykernel)",
   "language": "python",
   "name": "python3"
  },
  "language_info": {
   "codemirror_mode": {
    "name": "ipython",
    "version": 3
   },
   "file_extension": ".py",
   "mimetype": "text/x-python",
   "name": "python",
   "nbconvert_exporter": "python",
   "pygments_lexer": "ipython3",
   "version": "3.11.5"
  }
 },
 "nbformat": 4,
 "nbformat_minor": 5
}
