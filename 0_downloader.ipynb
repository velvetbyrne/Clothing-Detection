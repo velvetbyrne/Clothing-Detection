{
 "cells": [
  {
   "cell_type": "code",
   "execution_count": 1,
   "metadata": {},
   "outputs": [
    {
     "name": "stdout",
     "output_type": "stream",
     "text": [
      "Tue Jul 25 08:52:33 2023       \n",
      "+-----------------------------------------------------------------------------+\n",
      "| NVIDIA-SMI 472.19       Driver Version: 472.19       CUDA Version: 11.4     |\n",
      "|-------------------------------+----------------------+----------------------+\n",
      "| GPU  Name            TCC/WDDM | Bus-Id        Disp.A | Volatile Uncorr. ECC |\n",
      "| Fan  Temp  Perf  Pwr:Usage/Cap|         Memory-Usage | GPU-Util  Compute M. |\n",
      "|                               |                      |               MIG M. |\n",
      "|===============================+======================+======================|\n",
      "|   0  NVIDIA GeForce ... WDDM  | 00000000:01:00.0 Off |                  N/A |\n",
      "| N/A   47C    P8    N/A /  N/A |     64MiB /  2048MiB |      0%      Default |\n",
      "|                               |                      |                  N/A |\n",
      "+-------------------------------+----------------------+----------------------+\n",
      "                                                                               \n",
      "+-----------------------------------------------------------------------------+\n",
      "| Processes:                                                                  |\n",
      "|  GPU   GI   CI        PID   Type   Process name                  GPU Memory |\n",
      "|        ID   ID                                                   Usage      |\n",
      "|=============================================================================|\n",
      "|    0   N/A  N/A      1360    C+G   Insufficient Permissions        N/A      |\n",
      "|    0   N/A  N/A      2680    C+G   ...icrosoft.Media.Player.exe    N/A      |\n",
      "|    0   N/A  N/A      6252    C+G   ...UYVXIU4S6CAUU7A\\DeepL.exe    N/A      |\n",
      "|    0   N/A  N/A      8212    C+G   ...Microsoft.Msn.Weather.exe    N/A      |\n",
      "|    0   N/A  N/A      8784    C+G   ...artMenuExperienceHost.exe    N/A      |\n",
      "|    0   N/A  N/A      9532    C+G   ...5n1h2txyewy\\SearchApp.exe    N/A      |\n",
      "|    0   N/A  N/A     10376    C+G   ...Client\\v1.2.0\\rsAppUI.exe    N/A      |\n",
      "|    0   N/A  N/A     10488    C+G   ...2txyewy\\TextInputHost.exe    N/A      |\n",
      "|    0   N/A  N/A     11760    C+G   ...ll\\1.0.0.684\\LineCall.exe    N/A      |\n",
      "|    0   N/A  N/A     12556    C+G   ...cw5n1h2txyewy\\LockApp.exe    N/A      |\n",
      "|    0   N/A  N/A     12588    C+G   ...8wekyb3d8bbwe\\GameBar.exe    N/A      |\n",
      "|    0   N/A  N/A     12680    C+G   ...1\\Marvel Snap Tracker.exe    N/A      |\n",
      "|    0   N/A  N/A     14408    C+G   ...3d8bbwe\\CalculatorApp.exe    N/A      |\n",
      "|    0   N/A  N/A     19240    C+G   ..._dt26b99r8h8gj\\RtkUWP.exe    N/A      |\n",
      "|    0   N/A  N/A     19284    C+G   ...icrosoft VS Code\\Code.exe    N/A      |\n",
      "|    0   N/A  N/A     22152    C+G   ...e\\PhoneExperienceHost.exe    N/A      |\n",
      "+-----------------------------------------------------------------------------+\n"
     ]
    }
   ],
   "source": [
    "!nvidia-smi"
   ]
  },
  {
   "cell_type": "code",
   "execution_count": 2,
   "metadata": {},
   "outputs": [
    {
     "name": "stdout",
     "output_type": "stream",
     "text": [
      "Collecting pyzipperNote: you may need to restart the kernel to use updated packages.\n",
      "  Downloading pyzipper-0.3.6-py2.py3-none-any.whl (67 kB)\n",
      "Collecting pycryptodomex\n",
      "  Downloading pycryptodomex-3.18.0-cp35-abi3-win_amd64.whl (1.7 MB)\n",
      "Installing collected packages: pycryptodomex, pyzipper\n",
      "Successfully installed pycryptodomex-3.18.0 pyzipper-0.3.6\n",
      "\n"
     ]
    }
   ],
   "source": [
    "pip install pyzipper"
   ]
  },
  {
   "cell_type": "code",
   "execution_count": 3,
   "metadata": {},
   "outputs": [
    {
     "name": "stdout",
     "output_type": "stream",
     "text": [
      "Collecting gdown\n",
      "  Using cached gdown-4.7.1-py3-none-any.whl (15 kB)\n",
      "Requirement already satisfied: requests[socks] in d:\\anaconda3\\lib\\site-packages (from gdown) (2.26.0)\n",
      "Requirement already satisfied: six in d:\\anaconda3\\lib\\site-packages (from gdown) (1.16.0)\n",
      "Requirement already satisfied: tqdm in d:\\anaconda3\\lib\\site-packages (from gdown) (4.62.3)\n",
      "Requirement already satisfied: filelock in d:\\anaconda3\\lib\\site-packages (from gdown) (3.3.1)\n",
      "Requirement already satisfied: beautifulsoup4 in d:\\anaconda3\\lib\\site-packages (from gdown) (4.10.0)\n",
      "Note: you may need to restart the kernel to use updated packages.\n",
      "Requirement already satisfied: soupsieve>1.2 in d:\\anaconda3\\lib\\site-packages (from beautifulsoup4->gdown) (2.2.1)\n",
      "Requirement already satisfied: certifi>=2017.4.17 in d:\\anaconda3\\lib\\site-packages (from requests[socks]->gdown) (2021.10.8)\n",
      "Requirement already satisfied: urllib3<1.27,>=1.21.1 in d:\\anaconda3\\lib\\site-packages (from requests[socks]->gdown) (1.26.7)\n",
      "Requirement already satisfied: idna<4,>=2.5 in d:\\anaconda3\\lib\\site-packages (from requests[socks]->gdown) (3.2)\n",
      "Requirement already satisfied: charset-normalizer~=2.0.0 in d:\\anaconda3\\lib\\site-packages (from requests[socks]->gdown) (2.0.4)\n",
      "Requirement already satisfied: PySocks!=1.5.7,>=1.5.6 in d:\\anaconda3\\lib\\site-packages (from requests[socks]->gdown) (1.7.1)\n",
      "Requirement already satisfied: colorama in d:\\anaconda3\\lib\\site-packages (from tqdm->gdown) (0.4.4)\n",
      "Installing collected packages: gdown\n",
      "Successfully installed gdown-4.7.1\n"
     ]
    }
   ],
   "source": [
    "pip install gdown"
   ]
  },
  {
   "cell_type": "code",
   "execution_count": 1,
   "metadata": {},
   "outputs": [],
   "source": [
    "#Downloader dependencies\n",
    "import numpy as np\n",
    "import os\n",
    "import json\n",
    "import cv2\n",
    "import random\n",
    "from zipfile import ZipFile\n",
    "import pyzipper\n",
    "import gdown"
   ]
  },
  {
   "cell_type": "code",
   "execution_count": 3,
   "metadata": {
    "scrolled": true
   },
   "outputs": [
    {
     "name": "stderr",
     "output_type": "stream",
     "text": [
      "Retrieving folder list\n"
     ]
    },
    {
     "name": "stdout",
     "output_type": "stream",
     "text": [
      "Processing file 12DmrxXNtl0U9hnN1bzue4XX7nw1fSMZ5 json_for_validation.zip\n",
      "Processing file 1hsa-UE-LX8sks8eAcGLL-9QDNyNt6VgP test.zip\n",
      "Processing file 1lQZOIkO-9L0QJuk_w1K8-tRuyno-KvLK train.zip\n",
      "Processing file 1O45YqhREBOoLudjA06HcTehcEebR0o9y validation.zip\n",
      "Building directory structure completed\n"
     ]
    },
    {
     "name": "stderr",
     "output_type": "stream",
     "text": [
      "Retrieving folder list completed\n",
      "Building directory structure\n",
      "Downloading...\n",
      "From: https://drive.google.com/uc?id=12DmrxXNtl0U9hnN1bzue4XX7nw1fSMZ5\n",
      "To: C:\\Users\\Benjamin Tantra\\Documents\\UNI\\Proposal Skripsi\\DeepFashion2 Dataset\\json_for_validation.zip\n",
      "100%|██████████| 14.9M/14.9M [00:03<00:00, 4.55MB/s]\n",
      "Downloading...\n",
      "From (uriginal): https://drive.google.com/uc?id=1hsa-UE-LX8sks8eAcGLL-9QDNyNt6VgP\n",
      "From (redirected): https://drive.google.com/uc?id=1hsa-UE-LX8sks8eAcGLL-9QDNyNt6VgP&confirm=t&uuid=99742fc3-fc50-48c3-94ca-cbd8a83fa01b\n",
      "To: C:\\Users\\Benjamin Tantra\\Documents\\UNI\\Proposal Skripsi\\DeepFashion2 Dataset\\test.zip\n",
      "100%|██████████| 3.34G/3.34G [44:21<00:00, 1.26MB/s]  \n",
      "Downloading...\n",
      "From (uriginal): https://drive.google.com/uc?id=1lQZOIkO-9L0QJuk_w1K8-tRuyno-KvLK\n",
      "From (redirected): https://drive.google.com/uc?id=1lQZOIkO-9L0QJuk_w1K8-tRuyno-KvLK&confirm=t&uuid=d5448b0f-8334-40f5-a67e-210edb564edb\n",
      "To: C:\\Users\\Benjamin Tantra\\Documents\\UNI\\Proposal Skripsi\\DeepFashion2 Dataset\\train.zip\n",
      "100%|██████████| 10.6G/10.6G [47:28<00:00, 3.73MB/s]  \n",
      "Downloading...\n",
      "From (uriginal): https://drive.google.com/uc?id=1O45YqhREBOoLudjA06HcTehcEebR0o9y\n",
      "From (redirected): https://drive.google.com/uc?id=1O45YqhREBOoLudjA06HcTehcEebR0o9y&confirm=t&uuid=b19d8eda-abc1-48cd-8eb9-164c9f9adb8b\n",
      "To: C:\\Users\\Benjamin Tantra\\Documents\\UNI\\Proposal Skripsi\\DeepFashion2 Dataset\\validation.zip\n",
      "100%|██████████| 1.82G/1.82G [05:30<00:00, 5.49MB/s]\n",
      "Download completed\n"
     ]
    },
    {
     "data": {
      "text/plain": [
       "['C:\\\\Users\\\\Benjamin Tantra\\\\Documents\\\\UNI\\\\Proposal Skripsi\\\\DeepFashion2 Dataset\\\\json_for_validation.zip',\n",
       " 'C:\\\\Users\\\\Benjamin Tantra\\\\Documents\\\\UNI\\\\Proposal Skripsi\\\\DeepFashion2 Dataset\\\\test.zip',\n",
       " 'C:\\\\Users\\\\Benjamin Tantra\\\\Documents\\\\UNI\\\\Proposal Skripsi\\\\DeepFashion2 Dataset\\\\train.zip',\n",
       " 'C:\\\\Users\\\\Benjamin Tantra\\\\Documents\\\\UNI\\\\Proposal Skripsi\\\\DeepFashion2 Dataset\\\\validation.zip']"
      ]
     },
     "execution_count": 3,
     "metadata": {},
     "output_type": "execute_result"
    }
   ],
   "source": [
    "#Download the files\n",
    "folder=\"https://drive.google.com/drive/folders/125F48fsMBz2EF0Cpqk6aaHet5VH399Ok\"\n",
    "gdown.download_folder(folder, use_cookies=False)"
   ]
  },
  {
   "cell_type": "code",
   "execution_count": 1,
   "metadata": {},
   "outputs": [],
   "source": [
    "#Downloader dependencies\n",
    "import numpy as np\n",
    "import os\n",
    "import json\n",
    "import cv2\n",
    "import random\n",
    "from zipfile import ZipFile\n",
    "import pyzipper\n",
    "import gdown"
   ]
  },
  {
   "cell_type": "code",
   "execution_count": 15,
   "metadata": {},
   "outputs": [
    {
     "data": {
      "text/plain": [
       "['json_for_validation.zip', 'test.zip', 'train.zip', 'validation.zip']"
      ]
     },
     "execution_count": 15,
     "metadata": {},
     "output_type": "execute_result"
    }
   ],
   "source": [
    "os.listdir('deepfashion2_dataset')"
   ]
  },
  {
   "cell_type": "code",
   "execution_count": 24,
   "metadata": {},
   "outputs": [],
   "source": [
    "# json_for_validation\n",
    "\n",
    "zip_pass='2019Deepfashion2**'\n",
    "zip_file=\"C:/Users/Benjamin Tantra/Documents/UNI/Proposal Skripsi/deepfashion2_dataset/train.zip\"\n",
    "\n",
    "with ZipFile(zip_file) as zf:\n",
    "  zf.extractall(\"C:/Users/Benjamin Tantra/Documents/UNI/Proposal Skripsi/deepfashion2_dataset\",pwd=bytes(zip_pass,'utf-8'))"
   ]
  }
 ],
 "metadata": {
  "kernelspec": {
   "display_name": "Python 3",
   "language": "python",
   "name": "python3"
  },
  "language_info": {
   "codemirror_mode": {
    "name": "ipython",
    "version": 3
   },
   "file_extension": ".py",
   "mimetype": "text/x-python",
   "name": "python",
   "nbconvert_exporter": "python",
   "pygments_lexer": "ipython3",
   "version": "3.8.3"
  }
 },
 "nbformat": 4,
 "nbformat_minor": 5
}
