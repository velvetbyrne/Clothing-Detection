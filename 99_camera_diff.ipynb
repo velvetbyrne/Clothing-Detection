{
 "cells": [
  {
   "cell_type": "code",
   "execution_count": 1,
   "id": "62c8cd0b",
   "metadata": {},
   "outputs": [],
   "source": [
    "import cv2\n",
    "import torch\n",
    "import yaml\n",
    "from pathlib import Path\n",
    "import ultralytics\n",
    "from ultralytics import YOLO"
   ]
  },
  {
   "cell_type": "code",
   "execution_count": 2,
   "id": "54f4abf7",
   "metadata": {},
   "outputs": [],
   "source": [
    "green = {'short sleeve top', 'long sleeve top', 'short sleeve outerwear', \n",
    "                 'long sleeve outerwear', 'trousers', 'skirt', 'short sleeve dress', \n",
    "                 'long sleeve dress'}"
   ]
  },
  {
   "cell_type": "code",
   "execution_count": null,
   "id": "70f19c9a",
   "metadata": {},
   "outputs": [],
   "source": [
    "# Load YOLOv8 model\n",
    "# Change this with finished model\n",
    "model_path = \"D:/Skripsi/Results/9-11-2023-50epch/weights/best.pt\"\n",
    "model = YOLO(model_path)\n",
    "\n",
    "# Load YAML\n",
    "args_path = \"D:/Skripsi/Results/9-11-2023-50epch/args.yaml\"\n",
    "with open(args_path, 'r') as f:\n",
    "    config = yaml.safe_load(f)\n",
    "\n",
    "# Initialize the webcam using CV2\n",
    "cap = cv2.VideoCapture(0)\n",
    "if not cap.isOpened():\n",
    "    print(\"Error: Could not open webcam.\")\n",
    "    exit()\n",
    "\n",
    "# Loop to continuously get frames from the webcam\n",
    "while True:\n",
    "    ret, frame = cap.read()\n",
    "    if not ret:\n",
    "        print(\"Failed to grab frame\")\n",
    "        break\n",
    "\n",
    "    # Perform inference & extract\n",
    "    results = model(frame, verbose=False) #verbose=False so it doesn't\n",
    "    boxes_data = results[0].boxes.data\n",
    "    \n",
    "    boxes_data_np = boxes_data.cpu().numpy()\n",
    "\n",
    "    if boxes_data_np is not None:\n",
    "            for box_data in boxes_data_np:\n",
    "                x1, y1, x2, y2, conf, cls = box_data  # Unpack the bounding box information\n",
    "                class_name = results[0].names[int(cls)]\n",
    "                label = f\"{class_name} {conf:.2f}\"\n",
    "\n",
    "                # Check if the detected class is in the set of green classes\n",
    "                if class_name in green:\n",
    "                    box_color = (0, 255, 0)\n",
    "                else:\n",
    "                    box_color = (0, 0, 255)\n",
    "\n",
    "                # Draw bounding box and show category/confidence\n",
    "                cv2.rectangle(frame, (int(x1), int(y1)), (int(x2), int(y2)), box_color, 2)\n",
    "                (text_width, text_height), baseline = cv2.getTextSize(label, cv2.FONT_HERSHEY_SIMPLEX, 0.5, 2)\n",
    "                cv2.rectangle(frame, (int(x1), int(y1) - text_height - 10), (int(x1) + text_width, int(y1) - 10), box_color, -1)\n",
    "                cv2.putText(frame, label, (int(x1), int(y1) - 10), cv2.FONT_HERSHEY_SIMPLEX, 0.5, (255, 255, 255), 2, lineType=cv2.LINE_AA)\n",
    "            \n",
    "# Release resources\n",
    "cap.release()\n",
    "cv2.destroyAllWindows()"
   ]
  }
 ],
 "metadata": {
  "kernelspec": {
   "display_name": "Python 3 (ipykernel)",
   "language": "python",
   "name": "python3"
  },
  "language_info": {
   "codemirror_mode": {
    "name": "ipython",
    "version": 3
   },
   "file_extension": ".py",
   "mimetype": "text/x-python",
   "name": "python",
   "nbconvert_exporter": "python",
   "pygments_lexer": "ipython3",
   "version": "3.11.5"
  }
 },
 "nbformat": 4,
 "nbformat_minor": 5
}
