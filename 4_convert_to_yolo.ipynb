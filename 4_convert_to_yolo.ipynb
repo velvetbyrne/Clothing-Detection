{
 "cells": [
  {
   "cell_type": "code",
   "execution_count": 1,
   "metadata": {},
   "outputs": [],
   "source": [
    "from PIL import Image\n",
    "import os\n",
    "import json\n",
    "from tqdm import tqdm"
   ]
  },
  {
   "cell_type": "code",
   "execution_count": 2,
   "metadata": {},
   "outputs": [],
   "source": [
    "train_pos_anno = \"F:/Skripsi/deepfashion2_dataset_filter/train/pos/anno\"\n",
    "train_neg_anno = \"F:/Skripsi/deepfashion2_dataset_filter/train/neg/anno\"\n",
    "train_pos_img = \"F:/Skripsi/deepfashion2_dataset_filter/train/pos/img\"\n",
    "train_neg_img = \"F:/Skripsi/deepfashion2_dataset_filter/train/neg/img\"\n",
    "train_pos_yolo_anno = \"F:/Skripsi/deepfashion2_dataset_filter/train/pos/label\"\n",
    "train_neg_yolo_anno = \"F:/Skripsi/deepfashion2_dataset_filter/train/neg/label\""
   ]
  },
  {
   "cell_type": "code",
   "execution_count": 3,
   "metadata": {},
   "outputs": [
    {
     "name": "stderr",
     "output_type": "stream",
     "text": [
      "Processing F:/Skripsi/deepfashion2_dataset_filter/train/pos/anno: 100%|████████| 129560/129560 [40:25<00:00, 53.41it/s]\n",
      "Processing F:/Skripsi/deepfashion2_dataset_filter/train/neg/anno: 100%|██████████| 71654/71654 [20:21<00:00, 58.67it/s]\n"
     ]
    }
   ],
   "source": [
    "def convert_to_yolo_format(annotation, image_width, image_height):\n",
    "    bounding_box = annotation['bounding_box']\n",
    "    category_id = annotation['category_id']\n",
    "    \n",
    "    x_min, y_min, x_max, y_max = bounding_box\n",
    "    \n",
    "    x_center = ((x_max + x_min) / 2) / image_width\n",
    "    y_center = ((y_max + y_min) / 2) / image_height\n",
    "    width = (x_max - x_min) / image_width\n",
    "    height = (y_max - y_min) / image_height\n",
    "    \n",
    "    return f\"{category_id} {x_center} {y_center} {width} {height}\"\n",
    "\n",
    "def process_directory(src_anno_dir, dest_dir, img_dir):\n",
    "    if not os.path.exists(dest_dir):\n",
    "        os.makedirs(dest_dir)\n",
    "    \n",
    "    for filename in tqdm(os.listdir(src_anno_dir), desc=f\"Processing {src_anno_dir}\"):\n",
    "        if filename.endswith('.json'):\n",
    "            with open(os.path.join(src_anno_dir, filename), 'r') as f:\n",
    "                data = json.load(f)\n",
    "            \n",
    "            img_filename = os.path.splitext(filename)[0] + '.jpg'\n",
    "            img_path = os.path.join(img_dir, img_filename)\n",
    "        \n",
    "            img = Image.open(img_path)\n",
    "            image_width, image_height = img.size\n",
    "            img.close()\n",
    "        \n",
    "            yolo_lines = []\n",
    "            for key, value in data.items():\n",
    "                if 'item' in key:\n",
    "                    yolo_line = convert_to_yolo_format(value, image_width, image_height)\n",
    "                    yolo_lines.append(yolo_line)\n",
    "            \n",
    "            txt_filename = os.path.splitext(filename)[0] + '.txt'\n",
    "            with open(os.path.join(dest_dir, txt_filename), 'w') as f:\n",
    "                f.write('\\n'.join(yolo_lines))\n",
    "\n",
    "#Execution\n",
    "process_directory(train_pos_anno, train_pos_yolo_anno, train_pos_img)\n",
    "process_directory(train_neg_anno, train_neg_yolo_anno, train_neg_img)"
   ]
  }
 ],
 "metadata": {
  "kernelspec": {
   "display_name": "Python 3",
   "language": "python",
   "name": "python3"
  },
  "language_info": {
   "codemirror_mode": {
    "name": "ipython",
    "version": 3
   },
   "file_extension": ".py",
   "mimetype": "text/x-python",
   "name": "python",
   "nbconvert_exporter": "python",
   "pygments_lexer": "ipython3",
   "version": "3.8.3"
  }
 },
 "nbformat": 4,
 "nbformat_minor": 5
}
