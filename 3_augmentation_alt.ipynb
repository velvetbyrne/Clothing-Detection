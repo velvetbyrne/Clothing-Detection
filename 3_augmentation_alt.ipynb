{
 "cells": [
  {
   "cell_type": "code",
   "execution_count": 1,
   "metadata": {},
   "outputs": [],
   "source": [
    "# pip install imgaug"
   ]
  },
  {
   "cell_type": "code",
   "execution_count": 2,
   "metadata": {},
   "outputs": [],
   "source": [
    "import pandas as pd\n",
    "import numpy as np\n",
    "import os\n",
    "import json\n",
    "import cv2\n",
    "import random\n",
    "import sklearn\n",
    "import pydot\n",
    "import tqdm\n",
    "import shutil\n",
    "from datetime import datetime\n",
    "\n",
    "from matplotlib import image as mpimg\n",
    "import matplotlib.pyplot as plt\n",
    "\n",
    "from sklearn import metrics\n",
    "from sklearn.metrics import confusion_matrix, f1_score, classification_report\n",
    "import yaml\n",
    "import torch\n",
    "from pathlib import Path\n",
    "\n",
    "import ultralytics\n",
    "from ultralytics import YOLO\n",
    "import imgaug as ia\n",
    "from imgaug import augmenters as iaa"
   ]
  },
  {
   "cell_type": "code",
   "execution_count": null,
   "metadata": {},
   "outputs": [],
   "source": [
    "data_dir = 'D:Benji/dataset/'\n",
    "train_images_dir = os.path.join(data_dir, 'images', 'train')\n",
    "train_labels_dir = os.path.join(data_dir, 'labels', 'train')\n",
    "\n",
    "augmented_images_dir = 'D:/Benji/dataset_aug/images/train'\n",
    "augmented_labels_dir = 'D:/Benji/dataset_aug/labels/train'\n",
    "\n",
    "os.makedirs(augmented_images_dir, exist_ok=True)\n",
    "os.makedirs(augmented_labels_dir, exist_ok=True)\n",
    "\n",
    "# Augmentation sequence\n",
    "seq = iaa.Sequential([\n",
    "    iaa.Fliplr(0.5),  \n",
    "    iaa.Flipud(0.5),  \n",
    "    iaa.Rotate(rotate=(-45, 45)),  \n",
    "    iaa.Multiply((0.7, 1.3)),  \n",
    "    iaa.GammaContrast((0.7, 1.3))  \n",
    "])\n",
    "\n",
    "\n",
    "image_files = [f for f in os.listdir(train_images_dir) if f.endswith('.jpg')]\n",
    "\n",
    "for image_file in image_files:\n",
    "    image_path = os.path.join(train_images_dir, image_file)\n",
    "    image = mpimg.imread(image_path)\n",
    "\n",
    "    label_file = os.path.splitext(image_file)[0] + '.txt'\n",
    "    label_path = os.path.join(train_labels_dir, label_file)\n",
    "\n",
    "    augmented_image = seq(image=image)\n",
    "\n",
    "    augmented_image_path = os.path.join(augmented_images_dir, image_file)\n",
    "    mpimg.imsave(augmented_image_path, augmented_image)\n",
    "\n",
    "    augmented_label_path = os.path.join(augmented_labels_dir, label_file)\n",
    "    shutil.copy(label_path, augmented_label_path)"
   ]
  }
 ],
 "metadata": {
  "kernelspec": {
   "display_name": "3.11.3",
   "language": "python",
   "name": "3.11.3"
  },
  "language_info": {
   "codemirror_mode": {
    "name": "ipython",
    "version": 3
   },
   "file_extension": ".py",
   "mimetype": "text/x-python",
   "name": "python",
   "nbconvert_exporter": "python",
   "pygments_lexer": "ipython3",
   "version": "3.11.3"
  }
 },
 "nbformat": 4,
 "nbformat_minor": 5
}
