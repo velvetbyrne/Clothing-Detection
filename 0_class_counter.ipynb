{
 "cells": [
  {
   "cell_type": "code",
   "execution_count": 1,
   "id": "4727066c",
   "metadata": {},
   "outputs": [],
   "source": [
    "import os\n",
    "import json\n",
    "from collections import defaultdict\n",
    "from tqdm import tqdm"
   ]
  },
  {
   "cell_type": "code",
   "execution_count": 2,
   "id": "1f17325f",
   "metadata": {},
   "outputs": [
    {
     "name": "stdout",
     "output_type": "stream",
     "text": [
      "Requirement already satisfied: tdqm in c:\\users\\benjamin tantra\\appdata\\roaming\\python\\python311\\site-packages (0.0.1)\n",
      "Requirement already satisfied: tqdm in c:\\users\\benjamin tantra\\anaconda3\\lib\\site-packages (from tdqm) (4.65.0)\n",
      "Requirement already satisfied: colorama in c:\\users\\benjamin tantra\\anaconda3\\lib\\site-packages (from tqdm->tdqm) (0.4.6)\n",
      "Note: you may need to restart the kernel to use updated packages.\n"
     ]
    }
   ],
   "source": [
    "pip install tdqm"
   ]
  },
  {
   "cell_type": "code",
   "execution_count": 4,
   "id": "6ace0193",
   "metadata": {},
   "outputs": [
    {
     "name": "stderr",
     "output_type": "stream",
     "text": [
      "Processing JSON files: 100%|███████████████████████████████████████████████████| 129560/129560 [32:51<00:00, 65.72it/s]"
     ]
    },
    {
     "name": "stdout",
     "output_type": "stream",
     "text": [
      "\n",
      "Category Counts:\n",
      "trousers: 30526\n",
      "short sleeve top: 71645\n",
      "skirt: 21625\n",
      "shorts: 36616\n",
      "long sleeve outwear: 13457\n",
      "vest dress: 17949\n",
      "vest: 16095\n",
      "long sleeve top: 6331\n",
      "sling dress: 6492\n",
      "short sleeve outwear: 543\n",
      "long sleeve dress: 211\n",
      "sling: 1985\n",
      "short sleeve dress: 512\n"
     ]
    },
    {
     "name": "stderr",
     "output_type": "stream",
     "text": [
      "\n"
     ]
    }
   ],
   "source": [
    "def count_category_instances(directory):\n",
    "    category_counts = defaultdict(int) #Dict for category_id\n",
    "\n",
    "    json_files = [f for f in os.listdir(directory) if f.endswith('.json')]\n",
    "\n",
    "    for file in tqdm(json_files, desc=\"Processing JSON files\"):\n",
    "        file_path = os.path.join(directory, file)\n",
    "\n",
    "        with open(file_path, 'r') as json_file:\n",
    "            data = json.load(json_file)\n",
    "\n",
    "            for item_key in data.keys():\n",
    "                # Filter keys that start with 'item'\n",
    "                if item_key.startswith('item'):\n",
    "                    # Extract the category_id\n",
    "                    category_id = data[item_key].get('category_name', None)\n",
    "                    if category_id is not None:\n",
    "                        # Increment the count for this category_id\n",
    "                        category_counts[category_id] += 1\n",
    "\n",
    "    print(\"\\nCategory Counts:\")\n",
    "    for category_name, count in category_counts.items():\n",
    "        print(f\"{category_name}: {count}\")\n",
    "\n",
    "directory = 'D:/Skripsi/deepfashion2_dataset_filter/train/pos/anno'\n",
    "count_category_instances(directory)"
   ]
  }
 ],
 "metadata": {
  "kernelspec": {
   "display_name": "Python 3 (ipykernel)",
   "language": "python",
   "name": "python3"
  },
  "language_info": {
   "codemirror_mode": {
    "name": "ipython",
    "version": 3
   },
   "file_extension": ".py",
   "mimetype": "text/x-python",
   "name": "python",
   "nbconvert_exporter": "python",
   "pygments_lexer": "ipython3",
   "version": "3.11.5"
  }
 },
 "nbformat": 4,
 "nbformat_minor": 5
}
